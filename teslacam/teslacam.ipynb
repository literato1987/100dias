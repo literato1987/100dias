{
 "cells": [
  {
   "cell_type": "code",
   "execution_count": 1,
   "metadata": {},
   "outputs": [
    {
     "name": "stdout",
     "output_type": "stream",
     "text": [
      "Verificando configuración:\n",
      "Available layouts: pyramid, tall_diamond, short_diamond, cross\n",
      "Available codecs: dict_items([('hevc_nvenc', (('slow', 'medium', 'fast', 'hp', 'hq', 'bd', 'll', 'llhq', 'llhp', 'lossless', 'losslesshp'), 2)), ('libx265', (('ultrafast', 'superfast', 'veryfast', 'faster', 'fast', 'medium', 'slow', 'slower', 'veryslow', 'placebo'), 1))])\n",
      "\n",
      "Archivos encontrados: 16\n",
      "Primeros 5 archivos:\n",
      "- C:\\Users\\juani\\OneDrive\\Documentos\\python\\teslacam\\SentryClips\\2024-05-18_21-05-50\\2024-05-18_21-03-57-back.mp4\n",
      "- C:\\Users\\juani\\OneDrive\\Documentos\\python\\teslacam\\SentryClips\\2024-05-18_21-05-50\\2024-05-18_21-03-57-front.mp4\n",
      "- C:\\Users\\juani\\OneDrive\\Documentos\\python\\teslacam\\SentryClips\\2024-05-18_21-05-50\\2024-05-18_21-03-57-left_repeater.mp4\n",
      "- C:\\Users\\juani\\OneDrive\\Documentos\\python\\teslacam\\SentryClips\\2024-05-18_21-05-50\\2024-05-18_21-03-57-right_repeater.mp4\n",
      "- C:\\Users\\juani\\OneDrive\\Documentos\\python\\teslacam\\SentryClips\\2024-05-18_21-05-50\\2024-05-18_21-04-58-back.mp4\n",
      "\n",
      "Iniciando procesamiento con NVENC...\n",
      "\n"
     ]
    }
   ],
   "source": [
    "import nest_asyncio\n",
    "nest_asyncio.apply()\n",
    "import teslacam\n",
    "from teslacam import *\n",
    "import os\n",
    "\n",
    "def main():\n",
    "    print(\"Verificando configuración:\")\n",
    "    print(f\"Available layouts: {', '.join(teslacam.constants.LAYOUT.keys())}\")\n",
    "    print(f'Available codecs: {teslacam.constants.CODEC_OPTIONS.items()}')\n",
    "    \n",
    "    source_path = r'C:\\Users\\juani\\OneDrive\\Documentos\\python\\teslacam\\SentryClips'\n",
    "    \n",
    "    # Contar archivos\n",
    "    mp4_files = []\n",
    "    for root, _, files in os.walk(source_path):\n",
    "        for file in files:\n",
    "            if file.endswith('.mp4'):\n",
    "                mp4_files.append(os.path.join(root, file))\n",
    "    \n",
    "    print(f\"\\nArchivos encontrados: {len(mp4_files)}\")\n",
    "    print(\"Primeros 5 archivos:\")\n",
    "    for file in mp4_files[:5]:\n",
    "        print(f\"- {file}\")\n",
    "    \n",
    "    print(\"\\nIniciando procesamiento con NVENC...\\n\")\n",
    "    \n",
    "    extract_videos(\n",
    "        FFMpegPaths(\n",
    "            r'C:\\users\\juani\\appdata\\local\\programs\\python\\python312\\ffprobe.exe',\n",
    "            r'C:\\users\\juani\\appdata\\local\\programs\\python\\python312\\ffmpeg.exe'\n",
    "        ),\n",
    "        LayoutOptions(\n",
    "            'hevc_nvenc',\n",
    "            'hp',          \n",
    "            'side-by-side',  # Cambiado a un layout más simple\n",
    "            True            # Reducir calidad para pruebas\n",
    "        ),\n",
    "        BaseFolderPaths(\n",
    "            source_path,\n",
    "            r'C:\\Users\\juani\\OneDrive\\Documentos\\python\\teslacam'\n",
    "        ),\n",
    "        False\n",
    "    )\n",
    "\n",
    "if __name__ == '__main__':\n",
    "    main()"
   ]
  },
  {
   "cell_type": "code",
   "execution_count": null,
   "metadata": {},
   "outputs": [],
   "source": [
    "setlocal\n",
    "set CUDA_VISIBLE_DEVICES=0\n",
    "python tu_script.py"
   ]
  }
 ],
 "metadata": {
  "kernelspec": {
   "display_name": "Python 3",
   "language": "python",
   "name": "python3"
  },
  "language_info": {
   "codemirror_mode": {
    "name": "ipython",
    "version": 3
   },
   "file_extension": ".py",
   "mimetype": "text/x-python",
   "name": "python",
   "nbconvert_exporter": "python",
   "pygments_lexer": "ipython3",
   "version": "3.12.6"
  }
 },
 "nbformat": 4,
 "nbformat_minor": 2
}

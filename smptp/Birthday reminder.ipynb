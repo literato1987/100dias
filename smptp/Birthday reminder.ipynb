{
 "cells": [
  {
   "cell_type": "code",
   "execution_count": 24,
   "metadata": {},
   "outputs": [
    {
     "name": "stdout",
     "output_type": "stream",
     "text": [
      "(1, 30)\n",
      "{(12, 21): {'name': 'Juan Test', 'email': 'juanitoclavel@email.com', 'year': 1961, 'month': 12, 'day': 21}, (1, 30): {'name': 'Juan 2 ', 'email': 'juanclavelrojo@gmail.com', 'year': 1987, 'month': 1, 'day': 30}}\n"
     ]
    }
   ],
   "source": [
    "import datetime\n",
    "import pandas as pd\n",
    "\n",
    "# Get today's date\n",
    "today = (datetime.datetime.now().month, datetime.datetime.now().day)\n",
    "print(today)\n",
    "\n",
    "# Load CSV file\n",
    "df_birthdays = pd.read_csv(r\"C:\\Users\\juani\\OneDrive\\Escritorio\\Python\\smptp\\birthdays.csv\")\n",
    "\n",
    "# Create dictionary\n",
    "birthdays_dict = {(row['month'], row['day']): row.to_dict() for (index, row) in df_birthdays.iterrows()}\n",
    "\n",
    "print(birthdays_dict)"
   ]
  },
  {
   "cell_type": "code",
   "execution_count": null,
   "metadata": {},
   "outputs": [],
   "source": []
  },
  {
   "cell_type": "code",
   "execution_count": 25,
   "metadata": {},
   "outputs": [],
   "source": [
    "import smtplib\n",
    "import random\n",
    "\n",
    "def send_email():\n",
    "    my_email = \"juanclavel44@gmail.com\"\n",
    "    password = \"yqcw zoiz rjrx xpsm\"\n",
    "\n",
    "    with smtplib.SMTP(\"smtp.gmail.com\", 587) as connection:\n",
    "         # Pick a random letter\n",
    "        list_of_letters = [\"letter_1.txt\", \"letter_2.txt\", \"letter_3.txt\"]\n",
    "        chosen_letter = random.choice(list_of_letters)\n",
    "        read_letter = open(f\"letter_templates/{chosen_letter}\")\n",
    "        quote = read_letter.read()\n",
    "        quote = quote.replace(\"[NAME]\", birthdays_dict[today]['name'])\n",
    "        connection.starttls()\n",
    "        connection.login(user=my_email, password=password)\n",
    "        message = f\"Subject: Hello22\\n\\n    {quote}\"\n",
    "        connection.sendmail(from_addr=my_email, to_addrs=birthdays_dict[today]['email'], msg=message)\n",
    "\n",
    " "
   ]
  },
  {
   "cell_type": "code",
   "execution_count": 26,
   "metadata": {},
   "outputs": [
    {
     "name": "stdout",
     "output_type": "stream",
     "text": [
      "Yes, it's someone's birthday!\n",
      "{'name': 'Juan 2 ', 'email': 'juanclavelrojo@gmail.com', 'year': 1987, 'month': 1, 'day': 30}\n"
     ]
    }
   ],
   "source": [
    "\n",
    "\n",
    "\n",
    "# Check if today is in the dictionary\n",
    "if today in birthdays_dict:\n",
    "    print(\"Yes, it's someone's birthday!\")\n",
    "    print(birthdays_dict[today])\n",
    "    import random\n",
    "\n",
    "   \n",
    "    send_email()\n",
    "else:\n",
    "    print(\"No, today is not anyone's birthday.\")\n",
    "    chosen_letter = None\n",
    "\n",
    "\n"
   ]
  }
 ],
 "metadata": {
  "kernelspec": {
   "display_name": "Python 3",
   "language": "python",
   "name": "python3"
  },
  "language_info": {
   "codemirror_mode": {
    "name": "ipython",
    "version": 3
   },
   "file_extension": ".py",
   "mimetype": "text/x-python",
   "name": "python",
   "nbconvert_exporter": "python",
   "pygments_lexer": "ipython3",
   "version": "3.12.6"
  }
 },
 "nbformat": 4,
 "nbformat_minor": 2
}

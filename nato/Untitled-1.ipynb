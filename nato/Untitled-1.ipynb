{
 "cells": [
  {
   "cell_type": "code",
   "execution_count": 5,
   "metadata": {},
   "outputs": [],
   "source": [
    "import tkinter as tk\n",
    "\n",
    "window = tk.Tk()\n",
    "window.title(\"My First GUI Program\")\n",
    "window.minsize(width=500, height=300)\n",
    "\n",
    "my_label = tk.Label(text=\"I am a label\", font=(\"Arial\", 24, \"bold\"))\n",
    "my_label.pack()\n",
    "\n",
    "def button_clicked():\n",
    "    # Get the text from entry when the button is clicked\n",
    "    text_entry = entry.get()\n",
    "    my_label.config(text=text_entry)\n",
    "\n",
    "button = tk.Button(text=\"Click me\", command=button_clicked)\n",
    "button.pack()\n",
    "\n",
    "entry = tk.Entry(width=10)\n",
    "entry.pack()\n",
    "\n",
    "window.mainloop()"
   ]
  }
 ],
 "metadata": {
  "kernelspec": {
   "display_name": "Python 3",
   "language": "python",
   "name": "python3"
  },
  "language_info": {
   "codemirror_mode": {
    "name": "ipython",
    "version": 3
   },
   "file_extension": ".py",
   "mimetype": "text/x-python",
   "name": "python",
   "nbconvert_exporter": "python",
   "pygments_lexer": "ipython3",
   "version": "3.12.6"
  }
 },
 "nbformat": 4,
 "nbformat_minor": 2
}

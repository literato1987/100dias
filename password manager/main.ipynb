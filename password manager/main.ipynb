{
 "cells": [
  {
   "cell_type": "code",
   "execution_count": 4,
   "metadata": {},
   "outputs": [
    {
     "ename": "TclError",
     "evalue": "cannot use geometry manager grid inside . which already has slaves managed by pack",
     "output_type": "error",
     "traceback": [
      "\u001b[1;31m---------------------------------------------------------------------------\u001b[0m",
      "\u001b[1;31mTclError\u001b[0m                                  Traceback (most recent call last)",
      "Cell \u001b[1;32mIn[4], line 22\u001b[0m\n\u001b[0;32m     20\u001b[0m button\u001b[38;5;241m.\u001b[39mpack()\n\u001b[0;32m     21\u001b[0m website_label \u001b[38;5;241m=\u001b[39m Label(text\u001b[38;5;241m=\u001b[39m\u001b[38;5;124m\"\u001b[39m\u001b[38;5;124mWebsite:\u001b[39m\u001b[38;5;124m\"\u001b[39m)\n\u001b[1;32m---> 22\u001b[0m \u001b[43mwebsite_label\u001b[49m\u001b[38;5;241;43m.\u001b[39;49m\u001b[43mgrid\u001b[49m\u001b[43m(\u001b[49m\u001b[43mrow\u001b[49m\u001b[38;5;241;43m=\u001b[39;49m\u001b[38;5;241;43m1\u001b[39;49m\u001b[43m,\u001b[49m\u001b[43mcolumn\u001b[49m\u001b[38;5;241;43m=\u001b[39;49m\u001b[38;5;241;43m0\u001b[39;49m\u001b[43m)\u001b[49m\n\u001b[0;32m     23\u001b[0m website_entry \u001b[38;5;241m=\u001b[39m Entry(width\u001b[38;5;241m=\u001b[39m\u001b[38;5;241m35\u001b[39m)\n\u001b[0;32m     24\u001b[0m website_entry\u001b[38;5;241m.\u001b[39mgrid(row\u001b[38;5;241m=\u001b[39m\u001b[38;5;241m1\u001b[39m,column\u001b[38;5;241m=\u001b[39m\u001b[38;5;241m1\u001b[39m)\n",
      "File \u001b[1;32mc:\\Users\\juani\\AppData\\Local\\Programs\\Python\\Python312\\Lib\\tkinter\\__init__.py:2580\u001b[0m, in \u001b[0;36mGrid.grid_configure\u001b[1;34m(self, cnf, **kw)\u001b[0m\n\u001b[0;32m   2565\u001b[0m \u001b[38;5;28;01mdef\u001b[39;00m \u001b[38;5;21mgrid_configure\u001b[39m(\u001b[38;5;28mself\u001b[39m, cnf\u001b[38;5;241m=\u001b[39m{}, \u001b[38;5;241m*\u001b[39m\u001b[38;5;241m*\u001b[39mkw):\n\u001b[0;32m   2566\u001b[0m \u001b[38;5;250m    \u001b[39m\u001b[38;5;124;03m\"\"\"Position a widget in the parent widget in a grid. Use as options:\u001b[39;00m\n\u001b[0;32m   2567\u001b[0m \u001b[38;5;124;03m    column=number - use cell identified with given column (starting with 0)\u001b[39;00m\n\u001b[0;32m   2568\u001b[0m \u001b[38;5;124;03m    columnspan=number - this widget will span several columns\u001b[39;00m\n\u001b[1;32m   (...)\u001b[0m\n\u001b[0;32m   2578\u001b[0m \u001b[38;5;124;03m                  widget stick to the cell boundary\u001b[39;00m\n\u001b[0;32m   2579\u001b[0m \u001b[38;5;124;03m    \"\"\"\u001b[39;00m\n\u001b[1;32m-> 2580\u001b[0m     \u001b[38;5;28;43mself\u001b[39;49m\u001b[38;5;241;43m.\u001b[39;49m\u001b[43mtk\u001b[49m\u001b[38;5;241;43m.\u001b[39;49m\u001b[43mcall\u001b[49m\u001b[43m(\u001b[49m\n\u001b[0;32m   2581\u001b[0m \u001b[43m          \u001b[49m\u001b[43m(\u001b[49m\u001b[38;5;124;43m'\u001b[39;49m\u001b[38;5;124;43mgrid\u001b[39;49m\u001b[38;5;124;43m'\u001b[39;49m\u001b[43m,\u001b[49m\u001b[43m \u001b[49m\u001b[38;5;124;43m'\u001b[39;49m\u001b[38;5;124;43mconfigure\u001b[39;49m\u001b[38;5;124;43m'\u001b[39;49m\u001b[43m,\u001b[49m\u001b[43m \u001b[49m\u001b[38;5;28;43mself\u001b[39;49m\u001b[38;5;241;43m.\u001b[39;49m\u001b[43m_w\u001b[49m\u001b[43m)\u001b[49m\n\u001b[0;32m   2582\u001b[0m \u001b[43m          \u001b[49m\u001b[38;5;241;43m+\u001b[39;49m\u001b[43m \u001b[49m\u001b[38;5;28;43mself\u001b[39;49m\u001b[38;5;241;43m.\u001b[39;49m\u001b[43m_options\u001b[49m\u001b[43m(\u001b[49m\u001b[43mcnf\u001b[49m\u001b[43m,\u001b[49m\u001b[43m \u001b[49m\u001b[43mkw\u001b[49m\u001b[43m)\u001b[49m\u001b[43m)\u001b[49m\n",
      "\u001b[1;31mTclError\u001b[0m: cannot use geometry manager grid inside . which already has slaves managed by pack"
     ]
    }
   ],
   "source": [
    "# ---------------------------- PASSWORD GENERATOR ------------------------------- #\n",
    "\n",
    "def generate_password():\n",
    "   pass  \n",
    "# ---------------------------- SAVE PASSWORD ------------------------------- #\n",
    "def save():\n",
    "    pass\n",
    "# ---------------------------- UI SETUP ------------------------------- #\n",
    "from tkinter import *\n",
    "\n",
    "window = Tk()\n",
    "window.title(\"Password Manager\")\n",
    "window.config(padx=50,pady=50)\n",
    "\n",
    "canvas = Canvas(width=200, height=200)\n",
    "logo_img = PhotoImage(file=\"logo.png\")\n",
    "canvas.create_image(100,100,image=logo_img)\n",
    "canvas.pack()\n",
    "button = Button(text=\"Generate Password\",command=generate_password)\n",
    "button.pack()\n",
    "website_label = Label(text=\"Website:\")\n",
    "website_label.grid(row=1,column=0)\n",
    "website_entry = Entry(width=35)\n",
    "website_entry.grid(row=1,column=1)\n",
    "email_label = Label(text=\"Email:\")\n",
    "email_label.grid(row=2,column=0)\n",
    "email_entry = Entry(width=35)\n",
    "email_entry.pack()\n",
    "password_label = Label(text=\"Password:\")\n",
    "password_label.pack()\n",
    "password_entry = Entry(width=35)\n",
    "password_entry.pack()   \n",
    "add_button = Button(text=\"Add\",width=36,command=save)\n",
    "add_button.pack()\n",
    "\n",
    "\n",
    "window.mainloop()"
   ]
  }
 ],
 "metadata": {
  "kernelspec": {
   "display_name": "Python 3",
   "language": "python",
   "name": "python3"
  },
  "language_info": {
   "codemirror_mode": {
    "name": "ipython",
    "version": 3
   },
   "file_extension": ".py",
   "mimetype": "text/x-python",
   "name": "python",
   "nbconvert_exporter": "python",
   "pygments_lexer": "ipython3",
   "version": "3.12.6"
  }
 },
 "nbformat": 4,
 "nbformat_minor": 2
}
